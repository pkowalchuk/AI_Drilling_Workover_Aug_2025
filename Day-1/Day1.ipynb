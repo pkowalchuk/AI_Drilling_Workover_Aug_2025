{
  "nbformat": 4,
  "nbformat_minor": 0,
  "metadata": {
    "colab": {
      "provenance": []
    },
    "kernelspec": {
      "name": "python3",
      "display_name": "Python 3"
    },
    "language_info": {
      "name": "python"
    }
  },
  "cells": [
    {
      "cell_type": "code",
      "execution_count": 5,
      "metadata": {
        "id": "XQ35LokfqT7s",
        "colab": {
          "base_uri": "https://localhost:8080/"
        },
        "outputId": "d9d6f9d3-de48-4470-ee55-9f8837109f1a"
      },
      "outputs": [
        {
          "output_type": "stream",
          "name": "stdout",
          "text": [
            "Hola\n"
          ]
        }
      ],
      "source": [
        "print('Hola')"
      ]
    },
    {
      "cell_type": "code",
      "source": [
        "2+2"
      ],
      "metadata": {
        "colab": {
          "base_uri": "https://localhost:8080/"
        },
        "id": "NzR_6Ap2q2U1",
        "outputId": "69115ecd-7f37-496e-f4e8-69bdcb95d63d"
      },
      "execution_count": 3,
      "outputs": [
        {
          "output_type": "execute_result",
          "data": {
            "text/plain": [
              "4"
            ]
          },
          "metadata": {},
          "execution_count": 3
        }
      ]
    },
    {
      "cell_type": "code",
      "source": [
        "a=2\n",
        "b=3\n",
        "a+b"
      ],
      "metadata": {
        "colab": {
          "base_uri": "https://localhost:8080/"
        },
        "id": "6nmrFXeIq9BB",
        "outputId": "d3dd1d2b-0f03-4340-c369-cd7c549b40fc"
      },
      "execution_count": 4,
      "outputs": [
        {
          "output_type": "execute_result",
          "data": {
            "text/plain": [
              "5"
            ]
          },
          "metadata": {},
          "execution_count": 4
        }
      ]
    },
    {
      "cell_type": "code",
      "source": [
        "a=10\n",
        "b=30\n",
        "\n",
        "temp=a\n",
        "a=b\n",
        "b=temp\n",
        "print(f'Valor de a: {a}, Valor de b: {b}')"
      ],
      "metadata": {
        "colab": {
          "base_uri": "https://localhost:8080/"
        },
        "id": "-U7AExnRrEU4",
        "outputId": "8f16e864-bf83-40e1-dff1-24d7937633eb"
      },
      "execution_count": 7,
      "outputs": [
        {
          "output_type": "stream",
          "name": "stdout",
          "text": [
            "Valor de a: 30, Valor de b: 10\n"
          ]
        }
      ]
    },
    {
      "cell_type": "code",
      "source": [
        "a=10\n",
        "b=30\n",
        "\n",
        "a,b = b,a\n",
        "print(a,b)"
      ],
      "metadata": {
        "colab": {
          "base_uri": "https://localhost:8080/"
        },
        "id": "tPORuGBbrglR",
        "outputId": "2ddc6e21-41b3-42ba-881b-a93607157f00"
      },
      "execution_count": 8,
      "outputs": [
        {
          "output_type": "stream",
          "name": "stdout",
          "text": [
            "30 10\n"
          ]
        }
      ]
    },
    {
      "cell_type": "code",
      "source": [
        "a=10\n",
        "b=30\n",
        "c=a\n",
        "print(a,b,c)\n",
        "\n",
        "a=20\n",
        "print(a,b,c)"
      ],
      "metadata": {
        "colab": {
          "base_uri": "https://localhost:8080/"
        },
        "id": "zdVyAuK2rpUq",
        "outputId": "a2c7beb4-826f-4e2a-f05f-031f8a1acfef"
      },
      "execution_count": 9,
      "outputs": [
        {
          "output_type": "stream",
          "name": "stdout",
          "text": [
            "10 30 10\n",
            "20 30 10\n"
          ]
        }
      ]
    },
    {
      "cell_type": "code",
      "source": [
        "c=[1,2,3,4,5]\n",
        "print(c[2])"
      ],
      "metadata": {
        "colab": {
          "base_uri": "https://localhost:8080/"
        },
        "id": "xUEYg2JVrzCj",
        "outputId": "84def6a8-e236-442e-89da-365570c862fa"
      },
      "execution_count": 10,
      "outputs": [
        {
          "output_type": "stream",
          "name": "stdout",
          "text": [
            "3\n"
          ]
        }
      ]
    },
    {
      "cell_type": "code",
      "source": [
        "d=[1,2,3,4,\"manzana\",\"limon\"]\n",
        "print(d[4])"
      ],
      "metadata": {
        "colab": {
          "base_uri": "https://localhost:8080/"
        },
        "id": "DAP08dX8r7TM",
        "outputId": "ca5cde0b-1595-48f3-f049-ee0b8371f90c"
      },
      "execution_count": 11,
      "outputs": [
        {
          "output_type": "stream",
          "name": "stdout",
          "text": [
            "manzana\n"
          ]
        }
      ]
    },
    {
      "cell_type": "code",
      "source": [
        "d.append(\"naranja\")\n",
        "print(d)"
      ],
      "metadata": {
        "colab": {
          "base_uri": "https://localhost:8080/"
        },
        "id": "btk_Siy1sB6V",
        "outputId": "e46db63b-936b-4d90-8426-8b01508b9f90"
      },
      "execution_count": 12,
      "outputs": [
        {
          "output_type": "stream",
          "name": "stdout",
          "text": [
            "[1, 2, 3, 4, 'manzana', 'limon', 'naranja']\n"
          ]
        }
      ]
    },
    {
      "cell_type": "code",
      "source": [
        "d.append(a)\n",
        "print(d)"
      ],
      "metadata": {
        "colab": {
          "base_uri": "https://localhost:8080/"
        },
        "id": "XVetoRl7sFmC",
        "outputId": "dedc215c-6a97-43f6-a64d-17b6d2a700ac"
      },
      "execution_count": 13,
      "outputs": [
        {
          "output_type": "stream",
          "name": "stdout",
          "text": [
            "[1, 2, 3, 4, 'manzana', 'limon', 'naranja', 20]\n"
          ]
        }
      ]
    },
    {
      "cell_type": "code",
      "source": [
        "a=30\n",
        "print(d)\n",
        "\n",
        "a=10\n",
        "a=[a]\n",
        "d.append(a)\n",
        "print(d)"
      ],
      "metadata": {
        "colab": {
          "base_uri": "https://localhost:8080/"
        },
        "id": "l1r23pFVsMfd",
        "outputId": "89e6413a-8b95-40af-8814-1eb1aa010722"
      },
      "execution_count": 14,
      "outputs": [
        {
          "output_type": "stream",
          "name": "stdout",
          "text": [
            "[1, 2, 3, 4, 'manzana', 'limon', 'naranja', 20]\n",
            "[1, 2, 3, 4, 'manzana', 'limon', 'naranja', 20, [10]]\n"
          ]
        }
      ]
    },
    {
      "cell_type": "code",
      "source": [
        "a[0]=30\n",
        "print(d)"
      ],
      "metadata": {
        "colab": {
          "base_uri": "https://localhost:8080/"
        },
        "id": "lGpvtF1tsS7Y",
        "outputId": "ad48f8f1-9c74-4a97-f668-a5ddc5124030"
      },
      "execution_count": 15,
      "outputs": [
        {
          "output_type": "stream",
          "name": "stdout",
          "text": [
            "[1, 2, 3, 4, 'manzana', 'limon', 'naranja', 20, [30]]\n"
          ]
        }
      ]
    },
    {
      "cell_type": "code",
      "source": [
        "a=[10]\n",
        "b=[30]\n",
        "c=a\n",
        "print(a,b,c)\n",
        "a[0]=20\n",
        "print(a,b,c)"
      ],
      "metadata": {
        "colab": {
          "base_uri": "https://localhost:8080/"
        },
        "id": "1o2pULmrsVGg",
        "outputId": "04479543-c018-4a23-a4d4-202fd0dbac90"
      },
      "execution_count": 16,
      "outputs": [
        {
          "output_type": "stream",
          "name": "stdout",
          "text": [
            "[10] [30] [10]\n",
            "[20] [30] [20]\n"
          ]
        }
      ]
    },
    {
      "cell_type": "code",
      "source": [
        "import random\n",
        "\n",
        "random.seed(30)\n",
        "\n",
        "sample_data = [\n",
        "    {\n",
        "        'depth': 500 + i,\n",
        "        'ROP': random.uniform(20, 40),\n",
        "        'WOB': random.uniform(2000, 2500),\n",
        "        'RPM': random.uniform(100, 120)\n",
        "    }\n",
        "    for i in range(10)\n",
        "]\n",
        "\n",
        "print(\"Sample Data:\")\n",
        "for row in sample_data:\n",
        "    print(row)"
      ],
      "metadata": {
        "colab": {
          "base_uri": "https://localhost:8080/"
        },
        "id": "lsyd5KCWseHE",
        "outputId": "1fba97ae-efed-4408-c84a-064c08de3e6b"
      },
      "execution_count": 31,
      "outputs": [
        {
          "output_type": "stream",
          "name": "stdout",
          "text": [
            "Sample Data:\n",
            "{'depth': 500, 'ROP': 30.78163129211621, 'WOB': 2144.59822181986, 'RPM': 100.60073817102254}\n",
            "{'depth': 501, 'ROP': 33.072715077855236, 'WOB': 2105.0043477748654, 'RPM': 105.14553949959219}\n",
            "{'depth': 502, 'ROP': 27.943965252664547, 'WOB': 2320.7890768873363, 'RPM': 119.77622420807442}\n",
            "{'depth': 503, 'ROP': 29.2306602012525, 'WOB': 2496.742503800834, 'RPM': 119.85143988317256}\n",
            "{'depth': 504, 'ROP': 24.853510711468864, 'WOB': 2036.3225564356708, 'RPM': 103.19802044459236}\n",
            "{'depth': 505, 'ROP': 36.83805462957911, 'WOB': 2299.777364473134, 'RPM': 118.3492532971172}\n",
            "{'depth': 506, 'ROP': 39.44338214872543, 'WOB': 2327.2119102939982, 'RPM': 110.70409564406722}\n",
            "{'depth': 507, 'ROP': 21.352620631666696, 'WOB': 2011.7550315283906, 'RPM': 116.10588573855428}\n",
            "{'depth': 508, 'ROP': 33.43939427730443, 'WOB': 2381.5058709264677, 'RPM': 111.31304936043722}\n",
            "{'depth': 509, 'ROP': 33.47787518477884, 'WOB': 2319.3614094044424, 'RPM': 117.90351300984199}\n"
          ]
        }
      ]
    },
    {
      "cell_type": "code",
      "source": [
        "parametros = ['ROP', 'WOB', 'RPM']\n",
        "for parametro in parametros:\n",
        "    print(parametro)"
      ],
      "metadata": {
        "colab": {
          "base_uri": "https://localhost:8080/"
        },
        "id": "xqkikj-Rsn8g",
        "outputId": "061e4d1f-2f07-402d-c0fe-d31702bf1780"
      },
      "execution_count": 32,
      "outputs": [
        {
          "output_type": "stream",
          "name": "stdout",
          "text": [
            "ROP\n",
            "WOB\n",
            "RPM\n"
          ]
        }
      ]
    },
    {
      "cell_type": "code",
      "source": [
        "seq = [(1, 2, 3), (4, 5, 6), (7, 8, 9)]\n",
        "print(seq)\n",
        "\n",
        "for a,b,c in seq:\n",
        "    print(a,b,c)"
      ],
      "metadata": {
        "colab": {
          "base_uri": "https://localhost:8080/"
        },
        "id": "0M0YkKM-suSg",
        "outputId": "e4da1214-5d6e-4214-c9dc-095dccf3db14"
      },
      "execution_count": 33,
      "outputs": [
        {
          "output_type": "stream",
          "name": "stdout",
          "text": [
            "[(1, 2, 3), (4, 5, 6), (7, 8, 9)]\n",
            "1 2 3\n",
            "4 5 6\n",
            "7 8 9\n"
          ]
        }
      ]
    },
    {
      "cell_type": "code",
      "source": [
        "parametros = ['ROP', 'WOB', 'RPM']\n",
        "for index, parametro in enumerate(parametros):\n",
        "    print(f\"Parametro at index {index}: {parametro}\")"
      ],
      "metadata": {
        "colab": {
          "base_uri": "https://localhost:8080/"
        },
        "id": "Nvj2vbRjs-jI",
        "outputId": "5ba42445-f38c-4aeb-de94-336fcb666897"
      },
      "execution_count": 36,
      "outputs": [
        {
          "output_type": "stream",
          "name": "stdout",
          "text": [
            "Parametro at index 0: ROP\n",
            "Parametro at index 1: WOB\n",
            "Parametro at index 2: RPM\n"
          ]
        }
      ]
    },
    {
      "cell_type": "code",
      "source": [
        "# Como se podría obtener el mismo resultado sin utilizar enumerate?\n",
        "\n",
        "parametros = ['ROP', 'WOB', 'RPM']\n",
        "i=0\n",
        "for parametro in parametros:\n",
        "    print(f\"Parametro at index {i}: {parametro}\")\n",
        "    i+=1"
      ],
      "metadata": {
        "colab": {
          "base_uri": "https://localhost:8080/"
        },
        "id": "Q_HJGSuXtKA-",
        "outputId": "8255d919-604c-4e1c-93bb-311a9486eb1f"
      },
      "execution_count": 37,
      "outputs": [
        {
          "output_type": "stream",
          "name": "stdout",
          "text": [
            "Parametro at index 0: ROP\n",
            "Parametro at index 1: WOB\n",
            "Parametro at index 2: RPM\n"
          ]
        }
      ]
    },
    {
      "cell_type": "code",
      "source": [
        "for number in range(1000, 1011, 1):\n",
        "    print(number)"
      ],
      "metadata": {
        "colab": {
          "base_uri": "https://localhost:8080/"
        },
        "id": "3rCBdGNqtdqR",
        "outputId": "1e3eb38a-3ea7-44bc-bfe4-54c890e7894e"
      },
      "execution_count": 38,
      "outputs": [
        {
          "output_type": "stream",
          "name": "stdout",
          "text": [
            "1000\n",
            "1001\n",
            "1002\n",
            "1003\n",
            "1004\n",
            "1005\n",
            "1006\n",
            "1007\n",
            "1008\n",
            "1009\n",
            "1010\n"
          ]
        }
      ]
    },
    {
      "cell_type": "code",
      "source": [
        "for number in range(2000, 2011):\n",
        "    print(number / 2)"
      ],
      "metadata": {
        "colab": {
          "base_uri": "https://localhost:8080/"
        },
        "id": "6SKHNzlrtie2",
        "outputId": "5d9c50a7-896b-4ae9-f305-a28be91f76d0"
      },
      "execution_count": 39,
      "outputs": [
        {
          "output_type": "stream",
          "name": "stdout",
          "text": [
            "1000.0\n",
            "1000.5\n",
            "1001.0\n",
            "1001.5\n",
            "1002.0\n",
            "1002.5\n",
            "1003.0\n",
            "1003.5\n",
            "1004.0\n",
            "1004.5\n",
            "1005.0\n"
          ]
        }
      ]
    },
    {
      "cell_type": "code",
      "source": [
        "import random\n",
        "\n",
        "rop_values = [random.randint(1, 100) for _ in range(50)]\n",
        "print(rop_values)\n",
        "print(len(rop_values))\n",
        "\n",
        "for index, rop_value in enumerate(rop_values):\n",
        "    if rop_value > 50:\n",
        "        print(f\"High ROP: {rop_value}, at index {index}\")"
      ],
      "metadata": {
        "colab": {
          "base_uri": "https://localhost:8080/"
        },
        "id": "55lMXKtptpRz",
        "outputId": "bdb1344d-0773-496a-a7d1-808880a7e632"
      },
      "execution_count": 40,
      "outputs": [
        {
          "output_type": "stream",
          "name": "stdout",
          "text": [
            "[15, 79, 64, 40, 17, 40, 40, 33, 65, 11, 18, 32, 90, 41, 16, 99, 4, 53, 96, 65, 39, 23, 68, 83, 24, 61, 83, 43, 66, 58, 85, 43, 67, 44, 9, 3, 84, 14, 61, 63, 34, 62, 33, 75, 33, 89, 87, 22, 88, 24]\n",
            "50\n",
            "High ROP: 79, at index 1\n",
            "High ROP: 64, at index 2\n",
            "High ROP: 65, at index 8\n",
            "High ROP: 90, at index 12\n",
            "High ROP: 99, at index 15\n",
            "High ROP: 53, at index 17\n",
            "High ROP: 96, at index 18\n",
            "High ROP: 65, at index 19\n",
            "High ROP: 68, at index 22\n",
            "High ROP: 83, at index 23\n",
            "High ROP: 61, at index 25\n",
            "High ROP: 83, at index 26\n",
            "High ROP: 66, at index 28\n",
            "High ROP: 58, at index 29\n",
            "High ROP: 85, at index 30\n",
            "High ROP: 67, at index 32\n",
            "High ROP: 84, at index 36\n",
            "High ROP: 61, at index 38\n",
            "High ROP: 63, at index 39\n",
            "High ROP: 62, at index 41\n",
            "High ROP: 75, at index 43\n",
            "High ROP: 89, at index 45\n",
            "High ROP: 87, at index 46\n",
            "High ROP: 88, at index 48\n"
          ]
        }
      ]
    },
    {
      "cell_type": "code",
      "source": [
        "a=[1,2,3,4,5]\n",
        "print(a)\n",
        "\n",
        "a.sort(reverse=True)\n",
        "print(a)\n",
        "\n",
        "a.sort(reverse=False)\n",
        "print(a)"
      ],
      "metadata": {
        "colab": {
          "base_uri": "https://localhost:8080/"
        },
        "id": "18DXvKSutr7W",
        "outputId": "d3d8197e-1bb2-4cdf-e5cb-2a674e523414"
      },
      "execution_count": 41,
      "outputs": [
        {
          "output_type": "stream",
          "name": "stdout",
          "text": [
            "[1, 2, 3, 4, 5]\n",
            "[5, 4, 3, 2, 1]\n",
            "[1, 2, 3, 4, 5]\n"
          ]
        }
      ]
    },
    {
      "cell_type": "code",
      "source": [
        "a=[1,2,3,4,5,6,7,8,9]\n",
        "print(a)\n",
        "\n",
        "b=a[5:8]\n",
        "print(b)\n",
        "\n",
        "b=a[5:]\n",
        "print(b)\n",
        "\n",
        "b=a[:5]\n",
        "print(b)\n",
        "\n",
        "b=a[:-2]\n",
        "print(b)\n",
        "\n",
        "b=a[-2:]\n",
        "print(b)"
      ],
      "metadata": {
        "colab": {
          "base_uri": "https://localhost:8080/"
        },
        "id": "PIxFCMsXtyEi",
        "outputId": "406ffdcf-f073-4c96-ddfe-2186e17b1c67"
      },
      "execution_count": 42,
      "outputs": [
        {
          "output_type": "stream",
          "name": "stdout",
          "text": [
            "[1, 2, 3, 4, 5, 6, 7, 8, 9]\n",
            "[6, 7, 8]\n",
            "[6, 7, 8, 9]\n",
            "[1, 2, 3, 4, 5]\n",
            "[1, 2, 3, 4, 5, 6, 7]\n",
            "[8, 9]\n"
          ]
        }
      ]
    },
    {
      "cell_type": "code",
      "source": [
        "parametros={}\n",
        "\n",
        "parametros={\"depth\":[1000,1001,1002,10003],\"rop\":[10,11,12,10]}\n",
        "print(parametros)\n",
        "\n",
        "print(parametros[\"depth\"])\n",
        "print(parametros[\"rop\"])"
      ],
      "metadata": {
        "colab": {
          "base_uri": "https://localhost:8080/"
        },
        "id": "eOCtqExrt2SC",
        "outputId": "8ca0d6c7-2648-4836-bafe-ea4930010f99"
      },
      "execution_count": 44,
      "outputs": [
        {
          "output_type": "stream",
          "name": "stdout",
          "text": [
            "{'depth': [1000, 1001, 1002, 10003], 'rop': [10, 11, 12, 10]}\n",
            "[1000, 1001, 1002, 10003]\n",
            "[10, 11, 12, 10]\n"
          ]
        }
      ]
    },
    {
      "cell_type": "code",
      "source": [
        "import random\n",
        "\n",
        "random.seed(42)\n",
        "\n",
        "sample_data = [\n",
        "    {\n",
        "        'depth': 500 + i,\n",
        "        'ROP': random.uniform(20, 40),\n",
        "        'WOB': random.uniform(2000, 2500),\n",
        "        'RPM': random.uniform(100, 120)\n",
        "    }\n",
        "    for i in range(10)\n",
        "]\n",
        "\n",
        "print(\"Sample Data:\")\n",
        "for row in sample_data:\n",
        "    print(row)"
      ],
      "metadata": {
        "colab": {
          "base_uri": "https://localhost:8080/"
        },
        "id": "gcDojZbmt9-B",
        "outputId": "b48a5e60-3e50-4c20-d821-d806aee4e832"
      },
      "execution_count": 45,
      "outputs": [
        {
          "output_type": "stream",
          "name": "stdout",
          "text": [
            "Sample Data:\n",
            "{'depth': 500, 'ROP': 32.78853596915768, 'WOB': 2012.5053776113334, 'RPM': 105.50058636738238}\n",
            "{'depth': 501, 'ROP': 24.464214762976454, 'WOB': 2368.235607082006, 'RPM': 113.53398974845823}\n",
            "{'depth': 502, 'ROP': 37.84359135409691, 'WOB': 2043.469416314708, 'RPM': 108.43843639370542}\n",
            "{'depth': 503, 'ROP': 20.595944388761406, 'WOB': 2109.3189874018017, 'RPM': 110.10710576206725}\n",
            "{'depth': 504, 'ROP': 20.530719393677273, 'WOB': 2099.4188253433244, 'RPM': 112.99768875559046}\n",
            "{'depth': 505, 'ROP': 30.898829612064333, 'WOB': 2110.220311020348, 'RPM': 111.78531367751818}\n",
            "{'depth': 506, 'ROP': 36.18860913355653, 'WOB': 2003.2493798390306, 'RPM': 116.11638503665615}\n",
            "{'depth': 507, 'ROP': 33.962787899764535, 'WOB': 2170.125258258996, 'RPM': 103.10958999623563}\n",
            "{'depth': 508, 'ROP': 39.14426144413562, 'WOB': 2168.297272556313, 'RPM': 101.85491686760295}\n",
            "{'depth': 509, 'ROP': 21.93432753666928, 'WOB': 2423.74718317373, 'RPM': 112.07452062733782}\n"
          ]
        }
      ]
    }
  ]
}